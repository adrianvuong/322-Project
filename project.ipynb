{
 "cells": [
  {
   "cell_type": "markdown",
   "id": "0da5e9cc",
   "metadata": {},
   "source": [
    "# Project"
   ]
  },
  {
   "cell_type": "code",
   "execution_count": 17,
   "id": "1a1391d1",
   "metadata": {},
   "outputs": [],
   "source": [
    "# sentiments are: strong negative, weak negative, neutral, weak positive, strong positive (numerically 1-5)"
   ]
  },
  {
   "cell_type": "code",
   "execution_count": 18,
   "id": "75b33f26",
   "metadata": {},
   "outputs": [
    {
     "name": "stdout",
     "output_type": "stream",
     "text": [
      "Number of instances: 23486\n",
      "Number of classes: 11\n"
     ]
    },
    {
     "data": {
      "text/plain": [
       "<AxesSubplot:>"
      ]
     },
     "execution_count": 18,
     "metadata": {},
     "output_type": "execute_result"
    },
    {
     "data": {
      "image/png": "[encoded data removed]",
      "text/plain": [
       "<Figure size 432x288 with 1 Axes>"
      ]
     },
     "metadata": {
      "needs_background": "light"
     },
     "output_type": "display_data"
    }
   ],
   "source": [
    "import pandas as pd\n",
    "\n",
    "data = pd.read_csv(r\"C:\\Users\\Evan\\Desktop\\CP 322\\Womens Clothing E-Commerce Reviews.csv\")\n",
    "#i'm not familiar with github, can we upload the csv to the project? if so, feel free to change the above -Evan\n",
    "\n",
    "print(\"Number of instances:\", len(data['Clothing ID'])) #gives us the number of instances\n",
    "print(\"Number of classes:\", len(data.columns)) #gives us the number of classes\n",
    "data['Rating'].value_counts().plot(kind='bar')\n",
    "#as you can see from the plot, the dataset is massively unbalanced. needs preprocessing -Evan"
   ]
  },
  {
   "cell_type": "code",
   "execution_count": 19,
   "id": "972293f8",
   "metadata": {},
   "outputs": [
    {
     "name": "stdout",
     "output_type": "stream",
     "text": [
      "Empty rows have been dropped.\n",
      "Number of instances: 23486\n",
      "Missing reviews have been dropped.\n",
      "Number of instances: 22641\n"
     ]
    }
   ],
   "source": [
    "#skiming the data, we have missing values in at least the Title and Review Text fields\n",
    "#missing Titles are workable, but missing Review Texts are problematic. I reccomend that we delete any rows with a missing Review Text. -Evan\n",
    "\n",
    "data.dropna(axis=0, how='all', inplace=True) #this would drop any empty rows, if there were any -Evan\n",
    "#the axis indicates what will be dropped (0=rows), how='all' indicates that the row should be dropped if everything is empty...\n",
    "#and inplace=True indicates that a new df should not be created -Evan\n",
    "print(\"Empty rows have been dropped.\")\n",
    "print(\"Number of instances:\", len(data['Clothing ID']))\n",
    "\n",
    "data.dropna(subset=['Review Text'], inplace=True) #this should drop our missing reviews -Evan\n",
    "print(\"Missing reviews have been dropped.\")\n",
    "print(\"Number of instances:\", len(data['Clothing ID']))\n",
    "\n"
   ]
  },
  {
   "cell_type": "code",
   "execution_count": null,
   "id": "4d06e0b4",
   "metadata": {},
   "outputs": [],
   "source": [
    "#TODO: calculate IG of each feature\n",
    "#TODO: more pre-processing may be needed if the Title is found to have high IG\n",
    "#TODO: figure out how to split the highly imbalanced data for training/testing\n",
    "#TODO: the actual machine learning "
   ]
  }
 ],
 "metadata": {
  "kernelspec": {
   "display_name": "Python 3 (ipykernel)",
   "language": "python",
   "name": "python3"
  },
  "language_info": {
   "codemirror_mode": {
    "name": "ipython",
    "version": 3
   },
   "file_extension": ".py",
   "mimetype": "text/x-python",
   "name": "python",
   "nbconvert_exporter": "python",
   "pygments_lexer": "ipython3",
   "version": "3.7.0"
  }
 },
 "nbformat": 4,
 "nbformat_minor": 5
}
